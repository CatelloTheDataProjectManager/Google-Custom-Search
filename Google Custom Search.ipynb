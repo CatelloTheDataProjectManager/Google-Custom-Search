{
 "cells": [
  {
   "cell_type": "code",
   "execution_count": 1,
   "id": "35b63b9d-4d05-4060-8016-9989909ab4fb",
   "metadata": {},
   "outputs": [],
   "source": [
    "import os\n",
    "import httpx\n",
    "import pandas as pd"
   ]
  },
  {
   "cell_type": "code",
   "execution_count": 2,
   "id": "3e2978a7-cd51-4982-999c-d78efd3b432f",
   "metadata": {},
   "outputs": [],
   "source": [
    "import json\n",
    "\n",
    "with open('api_keys.json', 'r') as f:\n",
    "    data = json.load(f)\n",
    "\n",
    "api_key = data['api_key']\n",
    "search_engine_id = data['search_engine_id']"
   ]
  },
  {
   "cell_type": "code",
   "execution_count": 3,
   "id": "2c5ae864-959c-4d81-8a5d-1abc6047e57a",
   "metadata": {},
   "outputs": [],
   "source": [
    "query = \"Entreprise cherche Chef de projet digital freelance\"\n",
    "params = {\n",
    "    'dateRestrict': 'd15',\n",
    "    'gl': 'fr'\n",
    "}\n",
    "\n",
    "def google_search(api_key, search_engine_id, query, **params):\n",
    "    base_url = 'https://www.googleapis.com/customsearch/v1'\n",
    "    params = {\n",
    "        'key': api_key,\n",
    "        'cx': search_engine_id,\n",
    "        'q': query,\n",
    "        ** params\n",
    "    }\n",
    "    response = httpx.get(base_url, params=params)\n",
    "    response.raise_for_status()\n",
    "    return response.json()\n",
    "\n",
    "search_results = []\n",
    "for i in range(1, 100, 10):\n",
    "    response = google_search(\n",
    "        api_key = api_key,\n",
    "        search_engine_id = search_engine_id,\n",
    "        query = query,\n",
    "        params = params,\n",
    "        start=i\n",
    "    )\n",
    "    search_results.extend(response.get('items',[]))\n",
    "\n",
    "df = pd.json_normalize(search_results)\n"
   ]
  },
  {
   "cell_type": "code",
   "execution_count": 4,
   "id": "106bf52c-2bcb-434f-90e6-e67ede91f286",
   "metadata": {},
   "outputs": [
    {
     "name": "stdout",
     "output_type": "stream",
     "text": [
      "(74, 25)\n",
      "Index(['kind', 'title', 'htmlTitle', 'link', 'displayLink', 'snippet',\n",
      "       'htmlSnippet', 'formattedUrl', 'htmlFormattedUrl', 'pagemap.metatags',\n",
      "       'pagemap.cse_thumbnail', 'pagemap.cse_image', 'pagemap.webpage',\n",
      "       'pagemap.listitem', 'pagemap.person', 'pagemap.creativework',\n",
      "       'pagemap.jobposting', 'pagemap.organization', 'pagemap.postaladdress',\n",
      "       'pagemap.question', 'pagemap.answer', 'pagemap.sitenavigationelement',\n",
      "       'pagemap.hatomfeed', 'mime', 'fileFormat'],\n",
      "      dtype='object')\n"
     ]
    }
   ],
   "source": [
    "print(df.shape)\n",
    "print(df.columns)"
   ]
  },
  {
   "cell_type": "code",
   "execution_count": 5,
   "id": "8f49bf72-3bbc-4929-8874-45c492e53fc1",
   "metadata": {},
   "outputs": [
    {
     "name": "stdout",
     "output_type": "stream",
     "text": [
      "kind                                                                                                                                                                                     customsearch#result\n",
      "title                                                                                                                                    Freelance Chef Projet Digital : plus de 100 offres d'emploi (18 ...\n",
      "htmlTitle                                                                                                                     <b>Freelance Chef Projet Digital</b> : plus de 100 offres d&#39;emploi (18 ...\n",
      "link                                                                                                                                      https://fr.indeed.com/q-freelance-chef-projet-digital-emplois.html\n",
      "displayLink                                                                                                                                                                                    fr.indeed.com\n",
      "snippet                                                Vous êtes à la recherche d'un emploi : Freelance Chef Projet Digital ? Il y en a 179 disponibles sur Indeed.com, le plus grand site d'emploi mondial.\n",
      "htmlSnippet                      Vous êtes à la <b>recherche</b> d&#39;un emploi : <b>Freelance Chef Projet Digital</b> ? Il y en a 179 disponibles sur Indeed.com, le plus grand site d&#39;emploi mondial.\n",
      "formattedUrl                                                                                                                              https://fr.indeed.com/q-freelance-chef-projet-digital-emplois.html\n",
      "htmlFormattedUrl                                                                                              https://fr.indeed.com/q-<b>freelance</b>-<b>chef</b>-<b>projet</b>-<b>digital</b>-emplois.html\n",
      "pagemap.metatags                                                          [{'referrer': 'origin-when-cross-origin', 'viewport': 'width=device-width,initial-scale=1.0', 'format-detection': 'telephone=no'}]\n",
      "pagemap.cse_thumbnail                                                                                                                                                                                    NaN\n",
      "pagemap.cse_image                                                                                                                                                                                        NaN\n",
      "pagemap.webpage                                                                                                                                                                                          NaN\n",
      "pagemap.listitem                                                                                                                                                                                         NaN\n",
      "pagemap.person                                                                                                                                                                                           NaN\n",
      "pagemap.creativework                                                                                                                                                                                     NaN\n",
      "pagemap.jobposting                                                                                                                                                                                       NaN\n",
      "pagemap.organization                                                                                                                                                                                     NaN\n",
      "pagemap.postaladdress                                                                                                                                                                                    NaN\n",
      "pagemap.question                                                                                                                                                                                         NaN\n",
      "pagemap.answer                                                                                                                                                                                           NaN\n",
      "pagemap.sitenavigationelement                                                                                                                                                                            NaN\n",
      "pagemap.hatomfeed                                                                                                                                                                                        NaN\n",
      "mime                                                                                                                                                                                                     NaN\n",
      "fileFormat                                                                                                                                                                                               NaN\n",
      "Name: 0, dtype: object\n"
     ]
    }
   ],
   "source": [
    "# Assuming df is your DataFrame and you want to display the first row\n",
    "pd.set_option('display.max_colwidth', None)\n",
    "row = df.iloc[0]\n",
    "print(row)"
   ]
  },
  {
   "cell_type": "code",
   "execution_count": 6,
   "id": "793b4df2-6da9-4537-a947-bffbd32d4118",
   "metadata": {},
   "outputs": [
    {
     "data": {
      "text/html": [
       "<div>\n",
       "<style scoped>\n",
       "    .dataframe tbody tr th:only-of-type {\n",
       "        vertical-align: middle;\n",
       "    }\n",
       "\n",
       "    .dataframe tbody tr th {\n",
       "        vertical-align: top;\n",
       "    }\n",
       "\n",
       "    .dataframe thead th {\n",
       "        text-align: right;\n",
       "    }\n",
       "</style>\n",
       "<table border=\"1\" class=\"dataframe\">\n",
       "  <thead>\n",
       "    <tr style=\"text-align: right;\">\n",
       "      <th></th>\n",
       "      <th>link</th>\n",
       "      <th>displayLink</th>\n",
       "    </tr>\n",
       "  </thead>\n",
       "  <tbody>\n",
       "    <tr>\n",
       "      <th>0</th>\n",
       "      <td>https://fr.indeed.com/q-freelance-chef-projet-digital-emplois.html</td>\n",
       "      <td>fr.indeed.com</td>\n",
       "    </tr>\n",
       "    <tr>\n",
       "      <th>1</th>\n",
       "      <td>https://fr.linkedin.com/jobs/chef-de-projet-digital-freelance-emplois</td>\n",
       "      <td>fr.linkedin.com</td>\n",
       "    </tr>\n",
       "    <tr>\n",
       "      <th>2</th>\n",
       "      <td>https://fr.indeed.com/q-freelance-chef-projet-emplois.html</td>\n",
       "      <td>fr.indeed.com</td>\n",
       "    </tr>\n",
       "    <tr>\n",
       "      <th>3</th>\n",
       "      <td>https://www.malt.fr/a/freelance/gestion-de-projets-coaching/chef-de-projet</td>\n",
       "      <td>www.malt.fr</td>\n",
       "    </tr>\n",
       "    <tr>\n",
       "      <th>4</th>\n",
       "      <td>https://www.free-work.com/fr/tech-it/jobs/chef-de-projet-digital</td>\n",
       "      <td>www.free-work.com</td>\n",
       "    </tr>\n",
       "    <tr>\n",
       "      <th>...</th>\n",
       "      <td>...</td>\n",
       "      <td>...</td>\n",
       "    </tr>\n",
       "    <tr>\n",
       "      <th>69</th>\n",
       "      <td>https://www.afnor.org/nous-rejoindre/offres-emploi/</td>\n",
       "      <td>www.afnor.org</td>\n",
       "    </tr>\n",
       "    <tr>\n",
       "      <th>70</th>\n",
       "      <td>https://www.emarketerz.fr/emploi/chef-de-projet-web/</td>\n",
       "      <td>www.emarketerz.fr</td>\n",
       "    </tr>\n",
       "    <tr>\n",
       "      <th>71</th>\n",
       "      <td>https://www.media-institute.com/alternance/</td>\n",
       "      <td>www.media-institute.com</td>\n",
       "    </tr>\n",
       "    <tr>\n",
       "      <th>72</th>\n",
       "      <td>https://www.emploibenin.com/offre-emploi-benin/chef-projet-communication-225161</td>\n",
       "      <td>www.emploibenin.com</td>\n",
       "    </tr>\n",
       "    <tr>\n",
       "      <th>73</th>\n",
       "      <td>https://www.univ-larochelle.fr/wp-content/uploads/LP-MIAW-Web-designer-integrateur-chiffrescles-30mois.pdf</td>\n",
       "      <td>www.univ-larochelle.fr</td>\n",
       "    </tr>\n",
       "  </tbody>\n",
       "</table>\n",
       "<p>74 rows × 2 columns</p>\n",
       "</div>"
      ],
      "text/plain": [
       "                                                                                                          link  \\\n",
       "0                                           https://fr.indeed.com/q-freelance-chef-projet-digital-emplois.html   \n",
       "1                                        https://fr.linkedin.com/jobs/chef-de-projet-digital-freelance-emplois   \n",
       "2                                                   https://fr.indeed.com/q-freelance-chef-projet-emplois.html   \n",
       "3                                   https://www.malt.fr/a/freelance/gestion-de-projets-coaching/chef-de-projet   \n",
       "4                                             https://www.free-work.com/fr/tech-it/jobs/chef-de-projet-digital   \n",
       "..                                                                                                         ...   \n",
       "69                                                         https://www.afnor.org/nous-rejoindre/offres-emploi/   \n",
       "70                                                        https://www.emarketerz.fr/emploi/chef-de-projet-web/   \n",
       "71                                                                 https://www.media-institute.com/alternance/   \n",
       "72                             https://www.emploibenin.com/offre-emploi-benin/chef-projet-communication-225161   \n",
       "73  https://www.univ-larochelle.fr/wp-content/uploads/LP-MIAW-Web-designer-integrateur-chiffrescles-30mois.pdf   \n",
       "\n",
       "                displayLink  \n",
       "0             fr.indeed.com  \n",
       "1           fr.linkedin.com  \n",
       "2             fr.indeed.com  \n",
       "3               www.malt.fr  \n",
       "4         www.free-work.com  \n",
       "..                      ...  \n",
       "69            www.afnor.org  \n",
       "70        www.emarketerz.fr  \n",
       "71  www.media-institute.com  \n",
       "72      www.emploibenin.com  \n",
       "73   www.univ-larochelle.fr  \n",
       "\n",
       "[74 rows x 2 columns]"
      ]
     },
     "execution_count": 6,
     "metadata": {},
     "output_type": "execute_result"
    }
   ],
   "source": [
    "df_sel = df[['link', 'displayLink']].copy()\n",
    "df_sel"
   ]
  },
  {
   "cell_type": "code",
   "execution_count": 7,
   "id": "d4c22580-2522-41d1-a2ec-e640fc53a663",
   "metadata": {},
   "outputs": [],
   "source": [
    "# Save the dataframe to a new CSV file with the desired name\n",
    "df_sel.to_csv('C:\\\\Users\\\\Catello\\\\Desktop\\\\Protfolio\\\\Google Custom Search\\\\df_ent_chef_projet_digital.csv', index=False)\n"
   ]
  }
 ],
 "metadata": {
  "kernelspec": {
   "display_name": "Python 3 (ipykernel)",
   "language": "python",
   "name": "python3"
  },
  "language_info": {
   "codemirror_mode": {
    "name": "ipython",
    "version": 3
   },
   "file_extension": ".py",
   "mimetype": "text/x-python",
   "name": "python",
   "nbconvert_exporter": "python",
   "pygments_lexer": "ipython3",
   "version": "3.12.4"
  }
 },
 "nbformat": 4,
 "nbformat_minor": 5
}
